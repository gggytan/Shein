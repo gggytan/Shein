{
 "cells": [
  {
   "cell_type": "code",
   "execution_count": 97,
   "id": "5c7347d6",
   "metadata": {
    "collapsed": true
   },
   "outputs": [
    {
     "name": "stdout",
     "output_type": "stream",
     "text": [
      "Requirement already satisfied: selenium in /Users/yitinggan/anaconda3/lib/python3.10/site-packages (4.10.0)\n",
      "Requirement already satisfied: certifi>=2021.10.8 in /Users/yitinggan/anaconda3/lib/python3.10/site-packages (from selenium) (2022.12.7)\n",
      "Requirement already satisfied: urllib3[socks]<3,>=1.26 in /Users/yitinggan/anaconda3/lib/python3.10/site-packages (from selenium) (1.26.14)\n",
      "Requirement already satisfied: trio-websocket~=0.9 in /Users/yitinggan/anaconda3/lib/python3.10/site-packages (from selenium) (0.10.3)\n",
      "Requirement already satisfied: trio~=0.17 in /Users/yitinggan/anaconda3/lib/python3.10/site-packages (from selenium) (0.22.2)\n",
      "Requirement already satisfied: idna in /Users/yitinggan/anaconda3/lib/python3.10/site-packages (from trio~=0.17->selenium) (3.4)\n",
      "Requirement already satisfied: sortedcontainers in /Users/yitinggan/anaconda3/lib/python3.10/site-packages (from trio~=0.17->selenium) (2.4.0)\n",
      "Requirement already satisfied: outcome in /Users/yitinggan/anaconda3/lib/python3.10/site-packages (from trio~=0.17->selenium) (1.2.0)\n",
      "Requirement already satisfied: sniffio in /Users/yitinggan/anaconda3/lib/python3.10/site-packages (from trio~=0.17->selenium) (1.2.0)\n",
      "Requirement already satisfied: exceptiongroup>=1.0.0rc9 in /Users/yitinggan/anaconda3/lib/python3.10/site-packages (from trio~=0.17->selenium) (1.1.2)\n",
      "Requirement already satisfied: attrs>=20.1.0 in /Users/yitinggan/anaconda3/lib/python3.10/site-packages (from trio~=0.17->selenium) (22.1.0)\n",
      "Requirement already satisfied: wsproto>=0.14 in /Users/yitinggan/anaconda3/lib/python3.10/site-packages (from trio-websocket~=0.9->selenium) (1.2.0)\n",
      "Requirement already satisfied: PySocks!=1.5.7,<2.0,>=1.5.6 in /Users/yitinggan/anaconda3/lib/python3.10/site-packages (from urllib3[socks]<3,>=1.26->selenium) (1.7.1)\n",
      "Requirement already satisfied: h11<1,>=0.9.0 in /Users/yitinggan/anaconda3/lib/python3.10/site-packages (from wsproto>=0.14->trio-websocket~=0.9->selenium) (0.14.0)\n",
      "Note: you may need to restart the kernel to use updated packages.\n"
     ]
    }
   ],
   "source": [
    "#pip install selenium"
   ]
  },
  {
   "cell_type": "code",
   "execution_count": 47,
   "id": "f15e36b7",
   "metadata": {
    "scrolled": true
   },
   "outputs": [],
   "source": [
    "import selenium\n",
    "from selenium import webdriver\n",
    "from selenium.webdriver.common.by import By\n",
    "from selenium.webdriver.support.ui import WebDriverWait\n",
    "from selenium.webdriver.support import expected_conditions as EC\n",
    "\n",
    "#print( selenium.__version__ )"
   ]
  },
  {
   "cell_type": "code",
   "execution_count": 48,
   "id": "242f538f",
   "metadata": {},
   "outputs": [],
   "source": [
    "#shein women cloth top rated\n",
    "website = 'https://us.shein.com/style/Women-Clothing-sc-001121425.html?ici=us_tab01navbar05&src_module=topcat&src_tab_page_id=page_home1690914418587&src_identifier=fc%3DWomen%60sc%3DCLOTHING%60tc%3D0%60oc%3D0%60ps%3Dtab01navbar05%60jc%3DitemPicking_001121425&srctype=category&userpath=category-CLOTHING&sort=7'"
   ]
  },
  {
   "cell_type": "code",
   "execution_count": 55,
   "id": "f33130b0",
   "metadata": {},
   "outputs": [],
   "source": [
    "#path = '/Users/yitinggan/Downloads/chromedriver-mac-x64/chromedriver'\n",
    "#driver = webdriver.Chrome(path)\n",
    "driver = webdriver.Chrome()\n",
    "driver.get(website)"
   ]
  },
  {
   "cell_type": "code",
   "execution_count": 58,
   "id": "c1a4502e",
   "metadata": {},
   "outputs": [],
   "source": [
    "# Wait for the pop window to load\n",
    "#WebDriverWait(driver, 10).until(EC.presence_of_element_located((By.CLASS_NAME, 'iconfont icon-close she-close')))\n",
    "\n",
    "#click button(close pop-up window)\n",
    "close_button = driver.find_element(By.XPATH,'//i[@class=\"iconfont icon-close she-close\"]')\n",
    "close_button.click()\n",
    "\n",
    "#products = driver.find_elements_by_xpath(\"//section[@class='S-product-item j-expose__product-item product-list__item']\")#xpath format: //tagname[@attribute='']"
   ]
  },
  {
   "cell_type": "code",
   "execution_count": 53,
   "id": "c061b88c",
   "metadata": {
    "collapsed": true
   },
   "outputs": [
    {
     "ename": "TimeoutException",
     "evalue": "Message: \nStacktrace:\n0   chromedriver                        0x00000001069286b8 chromedriver + 4937400\n1   chromedriver                        0x000000010691fb73 chromedriver + 4901747\n2   chromedriver                        0x00000001064dd616 chromedriver + 435734\n3   chromedriver                        0x0000000106520e0f chromedriver + 712207\n4   chromedriver                        0x00000001065210a1 chromedriver + 712865\n5   chromedriver                        0x00000001065629a4 chromedriver + 981412\n6   chromedriver                        0x000000010654503d chromedriver + 860221\n7   chromedriver                        0x000000010655fe76 chromedriver + 970358\n8   chromedriver                        0x0000000106544de3 chromedriver + 859619\n9   chromedriver                        0x0000000106512d7f chromedriver + 654719\n10  chromedriver                        0x00000001065140de chromedriver + 659678\n11  chromedriver                        0x00000001068e42ad chromedriver + 4657837\n12  chromedriver                        0x00000001068e9130 chromedriver + 4677936\n13  chromedriver                        0x00000001068efdef chromedriver + 4705775\n14  chromedriver                        0x00000001068ea05a chromedriver + 4681818\n15  chromedriver                        0x00000001068bc92c chromedriver + 4495660\n16  chromedriver                        0x0000000106907838 chromedriver + 4802616\n17  chromedriver                        0x00000001069079b7 chromedriver + 4802999\n18  chromedriver                        0x000000010691899f chromedriver + 4872607\n19  libsystem_pthread.dylib             0x00007ff8089201d3 _pthread_start + 125\n20  libsystem_pthread.dylib             0x00007ff80891bbd3 thread_start + 15\n",
     "output_type": "error",
     "traceback": [
      "\u001b[0;31m---------------------------------------------------------------------------\u001b[0m",
      "\u001b[0;31mTimeoutException\u001b[0m                          Traceback (most recent call last)",
      "Cell \u001b[0;32mIn[53], line 2\u001b[0m\n\u001b[1;32m      1\u001b[0m \u001b[38;5;66;03m# Wait for the product list to load\u001b[39;00m\n\u001b[0;32m----> 2\u001b[0m \u001b[43mWebDriverWait\u001b[49m\u001b[43m(\u001b[49m\u001b[43mdriver\u001b[49m\u001b[43m,\u001b[49m\u001b[43m \u001b[49m\u001b[38;5;241;43m10\u001b[39;49m\u001b[43m)\u001b[49m\u001b[38;5;241;43m.\u001b[39;49m\u001b[43muntil\u001b[49m\u001b[43m(\u001b[49m\u001b[43mEC\u001b[49m\u001b[38;5;241;43m.\u001b[39;49m\u001b[43mpresence_of_element_located\u001b[49m\u001b[43m(\u001b[49m\u001b[43m(\u001b[49m\u001b[43mBy\u001b[49m\u001b[38;5;241;43m.\u001b[39;49m\u001b[43mCLASS_NAME\u001b[49m\u001b[43m,\u001b[49m\u001b[43m \u001b[49m\u001b[38;5;124;43m'\u001b[39;49m\u001b[38;5;124;43mS-product-item j-expose__product-item product-list__item\u001b[39;49m\u001b[38;5;124;43m'\u001b[39;49m\u001b[43m)\u001b[49m\u001b[43m)\u001b[49m\u001b[43m)\u001b[49m\n",
      "File \u001b[0;32m~/anaconda3/lib/python3.10/site-packages/selenium/webdriver/support/wait.py:95\u001b[0m, in \u001b[0;36mWebDriverWait.until\u001b[0;34m(self, method, message)\u001b[0m\n\u001b[1;32m     93\u001b[0m     \u001b[38;5;28;01mif\u001b[39;00m time\u001b[38;5;241m.\u001b[39mmonotonic() \u001b[38;5;241m>\u001b[39m end_time:\n\u001b[1;32m     94\u001b[0m         \u001b[38;5;28;01mbreak\u001b[39;00m\n\u001b[0;32m---> 95\u001b[0m \u001b[38;5;28;01mraise\u001b[39;00m TimeoutException(message, screen, stacktrace)\n",
      "\u001b[0;31mTimeoutException\u001b[0m: Message: \nStacktrace:\n0   chromedriver                        0x00000001069286b8 chromedriver + 4937400\n1   chromedriver                        0x000000010691fb73 chromedriver + 4901747\n2   chromedriver                        0x00000001064dd616 chromedriver + 435734\n3   chromedriver                        0x0000000106520e0f chromedriver + 712207\n4   chromedriver                        0x00000001065210a1 chromedriver + 712865\n5   chromedriver                        0x00000001065629a4 chromedriver + 981412\n6   chromedriver                        0x000000010654503d chromedriver + 860221\n7   chromedriver                        0x000000010655fe76 chromedriver + 970358\n8   chromedriver                        0x0000000106544de3 chromedriver + 859619\n9   chromedriver                        0x0000000106512d7f chromedriver + 654719\n10  chromedriver                        0x00000001065140de chromedriver + 659678\n11  chromedriver                        0x00000001068e42ad chromedriver + 4657837\n12  chromedriver                        0x00000001068e9130 chromedriver + 4677936\n13  chromedriver                        0x00000001068efdef chromedriver + 4705775\n14  chromedriver                        0x00000001068ea05a chromedriver + 4681818\n15  chromedriver                        0x00000001068bc92c chromedriver + 4495660\n16  chromedriver                        0x0000000106907838 chromedriver + 4802616\n17  chromedriver                        0x00000001069079b7 chromedriver + 4802999\n18  chromedriver                        0x000000010691899f chromedriver + 4872607\n19  libsystem_pthread.dylib             0x00007ff8089201d3 _pthread_start + 125\n20  libsystem_pthread.dylib             0x00007ff80891bbd3 thread_start + 15\n"
     ]
    }
   ],
   "source": [
    "# Wait for the product list to load\n",
    "WebDriverWait(driver, 10).until(EC.visibility_of_all_elements_located((By.CLASS_NAME, 'S-product-item j-expose__product-item product-list__item')))"
   ]
  },
  {
   "cell_type": "code",
   "execution_count": 66,
   "id": "4947969b",
   "metadata": {
    "collapsed": true
   },
   "outputs": [
    {
     "ename": "NoSuchElementException",
     "evalue": "Message: no such element: Unable to locate element: {\"method\":\"css selector\",\"selector\":\".S-product-item j-expose__product-item product-list__item\"}\n  (Session info: chrome=115.0.5790.114); For documentation on this error, please visit: https://www.selenium.dev/documentation/webdriver/troubleshooting/errors#no-such-element-exception\nStacktrace:\n0   chromedriver                        0x00000001092b16b8 chromedriver + 4937400\n1   chromedriver                        0x00000001092a8b73 chromedriver + 4901747\n2   chromedriver                        0x0000000108e66616 chromedriver + 435734\n3   chromedriver                        0x0000000108ea9e0f chromedriver + 712207\n4   chromedriver                        0x0000000108eaa0a1 chromedriver + 712865\n5   chromedriver                        0x0000000108eeb9a4 chromedriver + 981412\n6   chromedriver                        0x0000000108ece03d chromedriver + 860221\n7   chromedriver                        0x0000000108ee8e76 chromedriver + 970358\n8   chromedriver                        0x0000000108ecdde3 chromedriver + 859619\n9   chromedriver                        0x0000000108e9bd7f chromedriver + 654719\n10  chromedriver                        0x0000000108e9d0de chromedriver + 659678\n11  chromedriver                        0x000000010926d2ad chromedriver + 4657837\n12  chromedriver                        0x0000000109272130 chromedriver + 4677936\n13  chromedriver                        0x0000000109278def chromedriver + 4705775\n14  chromedriver                        0x000000010927305a chromedriver + 4681818\n15  chromedriver                        0x000000010924592c chromedriver + 4495660\n16  chromedriver                        0x0000000109290838 chromedriver + 4802616\n17  chromedriver                        0x00000001092909b7 chromedriver + 4802999\n18  chromedriver                        0x00000001092a199f chromedriver + 4872607\n19  libsystem_pthread.dylib             0x00007ff8089201d3 _pthread_start + 125\n20  libsystem_pthread.dylib             0x00007ff80891bbd3 thread_start + 15\n",
     "output_type": "error",
     "traceback": [
      "\u001b[0;31m---------------------------------------------------------------------------\u001b[0m",
      "\u001b[0;31mNoSuchElementException\u001b[0m                    Traceback (most recent call last)",
      "Cell \u001b[0;32mIn[66], line 1\u001b[0m\n\u001b[0;32m----> 1\u001b[0m \u001b[43mdriver\u001b[49m\u001b[38;5;241;43m.\u001b[39;49m\u001b[43mfind_element\u001b[49m\u001b[43m(\u001b[49m\u001b[43mBy\u001b[49m\u001b[38;5;241;43m.\u001b[39;49m\u001b[43mCSS_SELECTOR\u001b[49m\u001b[43m,\u001b[49m\u001b[43m \u001b[49m\u001b[38;5;124;43m'\u001b[39;49m\u001b[38;5;124;43m.S-product-item j-expose__product-item product-list__item\u001b[39;49m\u001b[38;5;124;43m'\u001b[39;49m\u001b[43m)\u001b[49m\u001b[38;5;241m.\u001b[39mtext\n",
      "File \u001b[0;32m~/anaconda3/lib/python3.10/site-packages/selenium/webdriver/remote/webdriver.py:740\u001b[0m, in \u001b[0;36mWebDriver.find_element\u001b[0;34m(self, by, value)\u001b[0m\n\u001b[1;32m    737\u001b[0m     by \u001b[38;5;241m=\u001b[39m By\u001b[38;5;241m.\u001b[39mCSS_SELECTOR\n\u001b[1;32m    738\u001b[0m     value \u001b[38;5;241m=\u001b[39m \u001b[38;5;124mf\u001b[39m\u001b[38;5;124m'\u001b[39m\u001b[38;5;124m[name=\u001b[39m\u001b[38;5;124m\"\u001b[39m\u001b[38;5;132;01m{\u001b[39;00mvalue\u001b[38;5;132;01m}\u001b[39;00m\u001b[38;5;124m\"\u001b[39m\u001b[38;5;124m]\u001b[39m\u001b[38;5;124m'\u001b[39m\n\u001b[0;32m--> 740\u001b[0m \u001b[38;5;28;01mreturn\u001b[39;00m \u001b[38;5;28;43mself\u001b[39;49m\u001b[38;5;241;43m.\u001b[39;49m\u001b[43mexecute\u001b[49m\u001b[43m(\u001b[49m\u001b[43mCommand\u001b[49m\u001b[38;5;241;43m.\u001b[39;49m\u001b[43mFIND_ELEMENT\u001b[49m\u001b[43m,\u001b[49m\u001b[43m \u001b[49m\u001b[43m{\u001b[49m\u001b[38;5;124;43m\"\u001b[39;49m\u001b[38;5;124;43musing\u001b[39;49m\u001b[38;5;124;43m\"\u001b[39;49m\u001b[43m:\u001b[49m\u001b[43m \u001b[49m\u001b[43mby\u001b[49m\u001b[43m,\u001b[49m\u001b[43m \u001b[49m\u001b[38;5;124;43m\"\u001b[39;49m\u001b[38;5;124;43mvalue\u001b[39;49m\u001b[38;5;124;43m\"\u001b[39;49m\u001b[43m:\u001b[49m\u001b[43m \u001b[49m\u001b[43mvalue\u001b[49m\u001b[43m}\u001b[49m\u001b[43m)\u001b[49m[\u001b[38;5;124m\"\u001b[39m\u001b[38;5;124mvalue\u001b[39m\u001b[38;5;124m\"\u001b[39m]\n",
      "File \u001b[0;32m~/anaconda3/lib/python3.10/site-packages/selenium/webdriver/remote/webdriver.py:346\u001b[0m, in \u001b[0;36mWebDriver.execute\u001b[0;34m(self, driver_command, params)\u001b[0m\n\u001b[1;32m    344\u001b[0m response \u001b[38;5;241m=\u001b[39m \u001b[38;5;28mself\u001b[39m\u001b[38;5;241m.\u001b[39mcommand_executor\u001b[38;5;241m.\u001b[39mexecute(driver_command, params)\n\u001b[1;32m    345\u001b[0m \u001b[38;5;28;01mif\u001b[39;00m response:\n\u001b[0;32m--> 346\u001b[0m     \u001b[38;5;28;43mself\u001b[39;49m\u001b[38;5;241;43m.\u001b[39;49m\u001b[43merror_handler\u001b[49m\u001b[38;5;241;43m.\u001b[39;49m\u001b[43mcheck_response\u001b[49m\u001b[43m(\u001b[49m\u001b[43mresponse\u001b[49m\u001b[43m)\u001b[49m\n\u001b[1;32m    347\u001b[0m     response[\u001b[38;5;124m\"\u001b[39m\u001b[38;5;124mvalue\u001b[39m\u001b[38;5;124m\"\u001b[39m] \u001b[38;5;241m=\u001b[39m \u001b[38;5;28mself\u001b[39m\u001b[38;5;241m.\u001b[39m_unwrap_value(response\u001b[38;5;241m.\u001b[39mget(\u001b[38;5;124m\"\u001b[39m\u001b[38;5;124mvalue\u001b[39m\u001b[38;5;124m\"\u001b[39m, \u001b[38;5;28;01mNone\u001b[39;00m))\n\u001b[1;32m    348\u001b[0m     \u001b[38;5;28;01mreturn\u001b[39;00m response\n",
      "File \u001b[0;32m~/anaconda3/lib/python3.10/site-packages/selenium/webdriver/remote/errorhandler.py:245\u001b[0m, in \u001b[0;36mErrorHandler.check_response\u001b[0;34m(self, response)\u001b[0m\n\u001b[1;32m    243\u001b[0m         alert_text \u001b[38;5;241m=\u001b[39m value[\u001b[38;5;124m\"\u001b[39m\u001b[38;5;124malert\u001b[39m\u001b[38;5;124m\"\u001b[39m]\u001b[38;5;241m.\u001b[39mget(\u001b[38;5;124m\"\u001b[39m\u001b[38;5;124mtext\u001b[39m\u001b[38;5;124m\"\u001b[39m)\n\u001b[1;32m    244\u001b[0m     \u001b[38;5;28;01mraise\u001b[39;00m exception_class(message, screen, stacktrace, alert_text)  \u001b[38;5;66;03m# type: ignore[call-arg]  # mypy is not smart enough here\u001b[39;00m\n\u001b[0;32m--> 245\u001b[0m \u001b[38;5;28;01mraise\u001b[39;00m exception_class(message, screen, stacktrace)\n",
      "\u001b[0;31mNoSuchElementException\u001b[0m: Message: no such element: Unable to locate element: {\"method\":\"css selector\",\"selector\":\".S-product-item j-expose__product-item product-list__item\"}\n  (Session info: chrome=115.0.5790.114); For documentation on this error, please visit: https://www.selenium.dev/documentation/webdriver/troubleshooting/errors#no-such-element-exception\nStacktrace:\n0   chromedriver                        0x00000001092b16b8 chromedriver + 4937400\n1   chromedriver                        0x00000001092a8b73 chromedriver + 4901747\n2   chromedriver                        0x0000000108e66616 chromedriver + 435734\n3   chromedriver                        0x0000000108ea9e0f chromedriver + 712207\n4   chromedriver                        0x0000000108eaa0a1 chromedriver + 712865\n5   chromedriver                        0x0000000108eeb9a4 chromedriver + 981412\n6   chromedriver                        0x0000000108ece03d chromedriver + 860221\n7   chromedriver                        0x0000000108ee8e76 chromedriver + 970358\n8   chromedriver                        0x0000000108ecdde3 chromedriver + 859619\n9   chromedriver                        0x0000000108e9bd7f chromedriver + 654719\n10  chromedriver                        0x0000000108e9d0de chromedriver + 659678\n11  chromedriver                        0x000000010926d2ad chromedriver + 4657837\n12  chromedriver                        0x0000000109272130 chromedriver + 4677936\n13  chromedriver                        0x0000000109278def chromedriver + 4705775\n14  chromedriver                        0x000000010927305a chromedriver + 4681818\n15  chromedriver                        0x000000010924592c chromedriver + 4495660\n16  chromedriver                        0x0000000109290838 chromedriver + 4802616\n17  chromedriver                        0x00000001092909b7 chromedriver + 4802999\n18  chromedriver                        0x00000001092a199f chromedriver + 4872607\n19  libsystem_pthread.dylib             0x00007ff8089201d3 _pthread_start + 125\n20  libsystem_pthread.dylib             0x00007ff80891bbd3 thread_start + 15\n"
     ]
    }
   ],
   "source": [
    "driver.find_element(By.CSS_SELECTOR, '.S-product-item j-expose__product-item product-list__item').text"
   ]
  },
  {
   "cell_type": "code",
   "execution_count": 62,
   "id": "967f03d3",
   "metadata": {},
   "outputs": [
    {
     "ename": "IndexError",
     "evalue": "list index out of range",
     "output_type": "error",
     "traceback": [
      "\u001b[0;31m---------------------------------------------------------------------------\u001b[0m",
      "\u001b[0;31mIndexError\u001b[0m                                Traceback (most recent call last)",
      "Cell \u001b[0;32mIn[62], line 5\u001b[0m\n\u001b[1;32m      3\u001b[0m \u001b[38;5;66;03m# Loop through the first 50 products\u001b[39;00m\n\u001b[1;32m      4\u001b[0m \u001b[38;5;28;01mfor\u001b[39;00m i \u001b[38;5;129;01min\u001b[39;00m \u001b[38;5;28mrange\u001b[39m(\u001b[38;5;241m5\u001b[39m):\n\u001b[0;32m----> 5\u001b[0m     product_elem \u001b[38;5;241m=\u001b[39m \u001b[43mproduct_list\u001b[49m\u001b[43m[\u001b[49m\u001b[43mi\u001b[49m\u001b[43m]\u001b[49m\n\u001b[1;32m      7\u001b[0m         \u001b[38;5;66;03m# Extract product name, price, discount, average rating, tags, and top 100 reviews\u001b[39;00m\n\u001b[1;32m      8\u001b[0m     product_name \u001b[38;5;241m=\u001b[39m product_elem\u001b[38;5;241m.\u001b[39mfind_element(By\u001b[38;5;241m.\u001b[39mCLASS_NAME, \u001b[38;5;124m'\u001b[39m\u001b[38;5;124mS-product-item__name\u001b[39m\u001b[38;5;124m'\u001b[39m)\u001b[38;5;241m.\u001b[39mtext\n",
      "\u001b[0;31mIndexError\u001b[0m: list index out of range"
     ]
    }
   ],
   "source": [
    "product_list = driver.find_elements(By.CSS_SELECTOR, '.S-product-item j-expose__product-item product-list__item')\n",
    "products_data = []\n",
    "# Loop through the first 50 products\n",
    "for i in range(5):\n",
    "    product_elem = product_list[i]\n",
    "    \n",
    "        # Extract product name, price, discount, average rating, tags, and top 100 reviews\n",
    "    product_name = product_elem.find_element(By.CLASS_NAME, 'S-product-item__name').text\n",
    "    product_price = product_elem.find_element(By.CLASS_NAME, 'product-item__camecase-wrap').text\n",
    "        \n",
    "        # Extract discount if available\n",
    "    try:\n",
    "        product_discount = product_elem.find_element(By.CLASS_NAME, 'S-product-item__discount-label notranslate discount-label_discount normal-price-ctn__discount-label').text\n",
    "    except:\n",
    "        product_discount = None\n",
    "\n",
    "        # Click on the product to load the reviews\n",
    "    product_elem.click()\n",
    "\n",
    "        # Wait for the reviews to load\n",
    "    WebDriverWait(driver, 10).until(EC.presence_of_element_located((By.CLASS_NAME, 'S-reviews-item__content')))\n",
    "\n",
    "        # Extract the average rating, tags & top 3 reviews\n",
    "    average_rating = driver.find_element(By.CLASS_NAME, 'ave-rate').text\n",
    "    fit_rating = driver.find_element(By.CLASS_NAME, 'common-reviews__averate-item').text\n",
    "    num_review = driver.find_element(By.CLASS_NAME, 'common-reviews__select-tab j-expose__review-tab-container').text\n",
    "    product_tags = driver.find_element(By.CLASS_NAME, 'common-reviews__tag').text\n",
    "\n",
    "    reviews_elems = driver.find_elements(By.CLASS_NAME, 'rate-des')[:3]\n",
    "    top_3_reviews = [review_elem.text for review_elem in reviews_elems]\n",
    "\n",
    "        # Go back to the product list page\n",
    "    driver.execute_script(\"window.history.go(-1)\")\n",
    "        \n",
    "        # Append the product data to the list\n",
    "    products_data.append({\n",
    "        'product_name': product_name,\n",
    "        'product_price': product_price,\n",
    "        'product_discount': product_discount,\n",
    "        'average_rating': average_rating,\n",
    "        'fit_rating': fit_rating,\n",
    "        'num_review': num_review,\n",
    "        'product_tags': product_tags,\n",
    "        'top_3_reviews': top_3_reviews\n",
    "    })\n",
    "print(products_data)\n"
   ]
  },
  {
   "cell_type": "code",
   "execution_count": null,
   "id": "f80f0876",
   "metadata": {},
   "outputs": [],
   "source": [
    "#products = driver.find_elements(By.CSS_SELECTOR, \".S-product-item j-expose__product-item product-list__item\")\n",
    "#product = []\n",
    "#for p in products[0:2]:\n",
    "#    title = p.find_element(By.CSS_SELECTOR, \".S-product-item__name\")\n",
    "#    time.sleep(5)\n",
    "#    print(title.text)\n",
    "    #price = p.find_element(By.CSS_SELECTOR, \".normal-price-ctn__sale-price normal-price-ctn__sale-price_discount normal-price-ctn__sale-price_big\")\n",
    "    #discount = p.find_element(By.CSS_SELECTOR, \".S-product-item__discount-label notranslate discount-label_discount normal-price-ctn__discount-label\")\n",
    "    \n",
    "    #print(title.text)\n",
    "    \n",
    "    #p_item = {\n",
    "     #   'title': title.text,\n",
    "      #  'price': price.text,\n",
    "       # 'discount': discount.text  \n",
    "    #}\n",
    "    #print(p_item)\n",
    "    #product.append(p_item)\n",
    "    \n",
    "#print(product)\n",
    "#driver.quit()"
   ]
  },
  {
   "cell_type": "code",
   "execution_count": null,
   "id": "1f4cd9eb",
   "metadata": {},
   "outputs": [],
   "source": [
    "#get data\n",
    "products_info = driver.find_element_by_xpath(\"//div[@class='product-intro__head j-expose__product-intro__head fsp-element']\")\n",
    "\n",
    "for info in products_info:\n",
    "    print(info.text)"
   ]
  },
  {
   "cell_type": "code",
   "execution_count": 68,
   "id": "208c512a",
   "metadata": {},
   "outputs": [],
   "source": [
    "#close the opening window\n",
    "driver.quit()"
   ]
  },
  {
   "cell_type": "code",
   "execution_count": null,
   "id": "8839a1b2",
   "metadata": {
    "collapsed": true
   },
   "outputs": [],
   "source": []
  }
 ],
 "metadata": {
  "kernelspec": {
   "display_name": "Python 3 (ipykernel)",
   "language": "python",
   "name": "python3"
  },
  "language_info": {
   "codemirror_mode": {
    "name": "ipython",
    "version": 3
   },
   "file_extension": ".py",
   "mimetype": "text/x-python",
   "name": "python",
   "nbconvert_exporter": "python",
   "pygments_lexer": "ipython3",
   "version": "3.10.9"
  }
 },
 "nbformat": 4,
 "nbformat_minor": 5
}
